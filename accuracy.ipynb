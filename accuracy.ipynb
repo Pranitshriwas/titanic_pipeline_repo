{
 "cells": [
  {
   "cell_type": "code",
   "execution_count": 8,
   "id": "56187b99",
   "metadata": {},
   "outputs": [
    {
     "name": "stdout",
     "output_type": "stream",
     "text": [
      " Validation Accuracy: 1.0000\n",
      "              precision    recall  f1-score   support\n",
      "\n",
      "           0       1.00      1.00      1.00       266\n",
      "           1       1.00      1.00      1.00       152\n",
      "\n",
      "    accuracy                           1.00       418\n",
      "   macro avg       1.00      1.00      1.00       418\n",
      "weighted avg       1.00      1.00      1.00       418\n",
      "\n"
     ]
    }
   ],
   "source": [
    "import pandas as pd\n",
    "import joblib\n",
    "from sklearn.metrics import accuracy_score, classification_report\n",
    "import mlflow\n",
    "\n",
    "\n",
    "def validate_model(data_path='data/processed_data.csv', model_path='model/logreg_model.pkl'):\n",
    "    # Start MLflow run\n",
    "    with mlflow.start_run(run_name=\"model_validation\"):\n",
    "\n",
    "        # Load the processed data\n",
    "        df = pd.read_csv(data_path)\n",
    "\n",
    "        # Use exactly the same columns as in training\n",
    "        X = df[['Pclass', 'Age', 'SibSp', 'Parch', 'Fare', 'Sex_male', 'Embarked_Q', 'Embarked_S']].copy()\n",
    "        y = df['Survived']\n",
    "\n",
    "        # Handle missing values\n",
    "        X['Age'] = X['Age'].fillna(X['Age'].mean())\n",
    "        X['Fare'] = X['Fare'].fillna(X['Fare'].mean())\n",
    "\n",
    "        # Load the trained model\n",
    "        model = joblib.load(model_path)\n",
    "\n",
    "        # Predict\n",
    "        preds = model.predict(X)\n",
    "\n",
    "        # Metrics\n",
    "        accuracy = accuracy_score(y, preds)\n",
    "        print(f\" Validation Accuracy: {accuracy:.4f}\")\n",
    "        print(classification_report(y, preds))\n",
    "\n",
    "        # Log accuracy to MLflow\n",
    "        mlflow.log_metric(\"validation_accuracy\", accuracy)\n",
    "\n",
    "\n",
    "if __name__ == \"__main__\":\n",
    "    validate_model()\n"
   ]
  }
 ],
 "metadata": {
  "kernelspec": {
   "display_name": "venv",
   "language": "python",
   "name": "python3"
  },
  "language_info": {
   "codemirror_mode": {
    "name": "ipython",
    "version": 3
   },
   "file_extension": ".py",
   "mimetype": "text/x-python",
   "name": "python",
   "nbconvert_exporter": "python",
   "pygments_lexer": "ipython3",
   "version": "3.8.10"
  }
 },
 "nbformat": 4,
 "nbformat_minor": 5
}
