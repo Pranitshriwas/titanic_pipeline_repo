{
 "cells": [
  {
   "cell_type": "code",
   "execution_count": 2,
   "id": "d1c51df8",
   "metadata": {},
   "outputs": [
    {
     "name": "stdout",
     "output_type": "stream",
     "text": [
      "Model 'Titanic_LogRegModel' already registered.\n",
      "Model registered as 'Titanic_LogRegModel' version 3\n"
     ]
    }
   ],
   "source": [
    "import mlflow\n",
    "from mlflow.tracking import MlflowClient\n",
    "from mlflow.exceptions import MlflowException\n",
    "\n",
    "# Set the experiment\n",
    "experiment_name = \"Titanic_LogReg\"\n",
    "mlflow.set_experiment(experiment_name)\n",
    "\n",
    "# Get latest run from the experiment\n",
    "client = MlflowClient()\n",
    "experiment = client.get_experiment_by_name(experiment_name)\n",
    "runs = client.search_runs(experiment.experiment_id, order_by=[\"attributes.start_time DESC\"], max_results=1)\n",
    "latest_run = runs[0]\n",
    "\n",
    "# Model URI from the latest run\n",
    "model_uri = f\"runs:/{latest_run.info.run_id}/model\"\n",
    "model_name = \"Titanic_LogRegModel\"\n",
    "\n",
    "# Check if model name is already registered\n",
    "try:\n",
    "    client.get_registered_model(model_name)\n",
    "    print(f\"Model '{model_name}' already registered.\")\n",
    "except MlflowException:\n",
    "    client.create_registered_model(model_name)\n",
    "    print(f\"Model '{model_name}' registered successfully.\")\n",
    "\n",
    "# Register the model version\n",
    "model_version = client.create_model_version(\n",
    "    name=model_name,\n",
    "    source=model_uri,\n",
    "    run_id=latest_run.info.run_id\n",
    ")\n",
    "\n",
    "print(f\"Model registered as '{model_name}' version {model_version.version}\")\n"
   ]
  }
 ],
 "metadata": {
  "kernelspec": {
   "display_name": "venv",
   "language": "python",
   "name": "python3"
  },
  "language_info": {
   "codemirror_mode": {
    "name": "ipython",
    "version": 3
   },
   "file_extension": ".py",
   "mimetype": "text/x-python",
   "name": "python",
   "nbconvert_exporter": "python",
   "pygments_lexer": "ipython3",
   "version": "3.8.10"
  }
 },
 "nbformat": 4,
 "nbformat_minor": 5
}
