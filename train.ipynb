{
 "cells": [
  {
   "cell_type": "code",
   "execution_count": 1,
   "id": "e8ec0b20",
   "metadata": {},
   "outputs": [],
   "source": [
    "import pandas as pd\n",
    "from sklearn.model_selection import train_test_split\n",
    "from sklearn.linear_model import LogisticRegression\n",
    "from sklearn.metrics import accuracy_score, classification_report\n",
    "import mlflow\n",
    "import mlflow.sklearn\n",
    "import joblib\n",
    "import os\n",
    "\n",
    "\n"
   ]
  },
  {
   "cell_type": "code",
   "execution_count": 2,
   "id": "3ef73e80",
   "metadata": {},
   "outputs": [],
   "source": [
    "# Load preprocessed data\n",
    "df = pd.read_csv('data/processed_data.csv')\n"
   ]
  },
  {
   "cell_type": "code",
   "execution_count": 3,
   "id": "8e5e63ee",
   "metadata": {},
   "outputs": [],
   "source": [
    "# Use already one-hot encoded columns\n",
    "X = df[['Pclass', 'Age', 'SibSp', 'Parch', 'Fare', 'Sex_male', 'Embarked_Q', 'Embarked_S']]\n",
    "y = df['Survived']"
   ]
  },
  {
   "cell_type": "code",
   "execution_count": 4,
   "id": "3749e568",
   "metadata": {},
   "outputs": [
    {
     "name": "stderr",
     "output_type": "stream",
     "text": [
      "/tmp/ipykernel_12024/57309919.py:2: SettingWithCopyWarning: \n",
      "A value is trying to be set on a copy of a slice from a DataFrame.\n",
      "Try using .loc[row_indexer,col_indexer] = value instead\n",
      "\n",
      "See the caveats in the documentation: https://pandas.pydata.org/pandas-docs/stable/user_guide/indexing.html#returning-a-view-versus-a-copy\n",
      "  X['Age'] = X['Age'].fillna(X['Age'].mean())\n",
      "/tmp/ipykernel_12024/57309919.py:3: SettingWithCopyWarning: \n",
      "A value is trying to be set on a copy of a slice from a DataFrame.\n",
      "Try using .loc[row_indexer,col_indexer] = value instead\n",
      "\n",
      "See the caveats in the documentation: https://pandas.pydata.org/pandas-docs/stable/user_guide/indexing.html#returning-a-view-versus-a-copy\n",
      "  X['Fare'] = X['Fare'].fillna(X['Fare'].mean())\n"
     ]
    }
   ],
   "source": [
    "# Handle missing values (if any remain)\n",
    "X['Age'] = X['Age'].fillna(X['Age'].mean())\n",
    "X['Fare'] = X['Fare'].fillna(X['Fare'].mean())"
   ]
  },
  {
   "cell_type": "code",
   "execution_count": 5,
   "id": "fd1aa112",
   "metadata": {},
   "outputs": [],
   "source": [
    "# Split data\n",
    "X_train, X_test, y_train, y_test = train_test_split(X, y, test_size=0.2, random_state=42)\n"
   ]
  },
  {
   "cell_type": "code",
   "execution_count": 6,
   "id": "6182f8c3",
   "metadata": {},
   "outputs": [
    {
     "name": "stderr",
     "output_type": "stream",
     "text": [
      "2025/06/06 16:26:24 INFO mlflow.tracking.fluent: Experiment with name 'Titanic_LogReg' does not exist. Creating a new experiment.\n",
      "2025/06/06 16:26:28 WARNING mlflow.models.model: Model logged without a signature and input example. Please set `input_example` parameter when logging the model to auto infer the model signature.\n"
     ]
    },
    {
     "name": "stdout",
     "output_type": "stream",
     "text": [
      "Accuracy: 1.0\n",
      "              precision    recall  f1-score   support\n",
      "\n",
      "           0       1.00      1.00      1.00        50\n",
      "           1       1.00      1.00      1.00        34\n",
      "\n",
      "    accuracy                           1.00        84\n",
      "   macro avg       1.00      1.00      1.00        84\n",
      "weighted avg       1.00      1.00      1.00        84\n",
      "\n"
     ]
    }
   ],
   "source": [
    "# Training and logging with MLflow\n",
    "mlflow.set_experiment(\"Titanic_LogReg\")\n",
    "\n",
    "\n",
    "with mlflow.start_run():\n",
    "   model = LogisticRegression(max_iter=500)\n",
    "   model.fit(X_train, y_train)\n",
    "\n",
    "\n",
    "   y_pred = model.predict(X_test)\n",
    "   accuracy = accuracy_score(y_test, y_pred)\n",
    "\n",
    "\n",
    "   mlflow.log_param(\"model_type\", \"LogisticRegression\")\n",
    "   mlflow.log_param(\"max_iter\", 500)\n",
    "   mlflow.log_metric(\"accuracy\", accuracy)\n",
    "   mlflow.sklearn.log_model(model, \"model\")\n",
    "\n",
    "\n",
    "   print(\"Accuracy:\", accuracy)\n",
    "   print(classification_report(y_test, y_pred))\n",
    "\n",
    "\n",
    "   os.makedirs('model', exist_ok=True)\n",
    "   joblib.dump(model, 'model/logreg_model.pkl')\n",
    "\n",
    "\n"
   ]
  }
 ],
 "metadata": {
  "kernelspec": {
   "display_name": "venv",
   "language": "python",
   "name": "python3"
  },
  "language_info": {
   "codemirror_mode": {
    "name": "ipython",
    "version": 3
   },
   "file_extension": ".py",
   "mimetype": "text/x-python",
   "name": "python",
   "nbconvert_exporter": "python",
   "pygments_lexer": "ipython3",
   "version": "3.8.10"
  }
 },
 "nbformat": 4,
 "nbformat_minor": 5
}
